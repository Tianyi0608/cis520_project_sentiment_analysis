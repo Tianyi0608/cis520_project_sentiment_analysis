{
  "cells": [
    {
      "cell_type": "markdown",
      "metadata": {
        "id": "9VfhgLIEtq6P"
      },
      "source": [
        "instructions:\n",
        "\n",
        "above is the code for extracting the embeddings for the documents. those embeddings are already saved in './data'. And you don't need to regenerate it again (it's time consuming).\n",
        "\n",
        "you can read the csv file directly to get the embeddings and train it for the models. (I also run the logistic regression and the results are shown above, you can try it to make sure the embedding is good.)\n",
        "\n",
        "The model you can try with this embedding is logistic regression, NN(recommend this), random forest/decision tree and ensemble models. This already embedded one cannot run Naive Bayes."
      ]
    },
    {
      "cell_type": "code",
      "execution_count": 9,
      "metadata": {
        "id": "aSTEm0-zIhUo"
      },
      "outputs": [],
      "source": [
        "import numpy as np\n",
        "import torch\n",
        "import csv"
      ]
    },
    {
      "cell_type": "code",
      "execution_count": null,
      "metadata": {
        "colab": {
          "base_uri": "https://localhost:8080/"
        },
        "id": "lwtKKSHf-5fo",
        "outputId": "6e49f4a0-da87-421a-bb69-08393bfdb459"
      },
      "outputs": [
        {
          "name": "stdout",
          "output_type": "stream",
          "text": [
            "Mounted at /content/drive\n"
          ]
        }
      ],
      "source": [
        "from google.colab import drive\n",
        "drive.mount('/content/drive')"
      ]
    },
    {
      "cell_type": "code",
      "execution_count": null,
      "metadata": {
        "colab": {
          "base_uri": "https://localhost:8080/"
        },
        "id": "CuXbB2TSIG1V",
        "outputId": "113bc8dd-a740-45ab-da9c-1e5e7c2487f0"
      },
      "outputs": [
        {
          "name": "stdout",
          "output_type": "stream",
          "text": [
            "Archive:  /content/drive/MyDrive/Colab_Notebooks/CIS520/Project/data.zip\n",
            "   creating: data/\n",
            "  inflating: __MACOSX/._data         \n",
            "  inflating: data/cls_embedding_dev.csv  \n",
            "  inflating: __MACOSX/data/._cls_embedding_dev.csv  \n",
            "  inflating: data/avg_embedding_test.csv  \n",
            "  inflating: data/gold_test.csv      \n",
            "  inflating: data/avg_embedding_train.csv  "
          ]
        }
      ],
      "source": [
        "#importing [CLS] and average embeddings generated from BERT\n",
        "!unzip /content/drive/MyDrive/Colab_Notebooks/CIS520/Project/data.zip"
      ]
    },
    {
      "cell_type": "code",
      "execution_count": null,
      "metadata": {
        "colab": {
          "background_save": true,
          "base_uri": "https://localhost:8080/"
        },
        "id": "rVMzNqjeIyyw",
        "outputId": "138c5fd3-f60e-40fa-b2e9-c2cb61edc041"
      },
      "outputs": [
        {
          "name": "stdout",
          "output_type": "stream",
          "text": [
            "avg_emb_train shape torch.Size([20000, 768])\n",
            "avg_emb_dev shape torch.Size([5000, 768])\n",
            "avg_emb_test shape torch.Size([25000, 768])\n"
          ]
        }
      ],
      "source": [
        "avg_emb_train = torch.Tensor(np.genfromtxt('data/avg_embedding_train.csv', delimiter=','))\n",
        "avg_emb_dev = torch.Tensor(np.genfromtxt('data/avg_embedding_dev.csv', delimiter=','))\n",
        "avg_emb_test = torch.Tensor(np.genfromtxt('data/avg_embedding_test.csv', delimiter=','))\n",
        "print('avg_emb_train shape', avg_emb_train.shape)\n",
        "print('avg_emb_dev shape', avg_emb_dev.shape)\n",
        "print('avg_emb_test shape', avg_emb_test.shape)"
      ]
    },
    {
      "cell_type": "code",
      "execution_count": null,
      "metadata": {
        "colab": {
          "background_save": true,
          "base_uri": "https://localhost:8080/"
        },
        "id": "V3GsfhFsyd7h",
        "outputId": "07b7a94d-e867-4cda-f9f3-4e135aaffe39"
      },
      "outputs": [
        {
          "name": "stdout",
          "output_type": "stream",
          "text": [
            "cls_emb_train shape torch.Size([20000, 768])\n",
            "cls_emb_dev shape torch.Size([5000, 768])\n",
            "cls_emb_test shape torch.Size([25000, 768])\n"
          ]
        }
      ],
      "source": [
        "cls_emb_train = torch.Tensor(np.genfromtxt('data/cls_embedding_train.csv', delimiter=','))\n",
        "cls_emb_dev = torch.Tensor(np.genfromtxt('data/cls_embedding_dev.csv', delimiter=','))\n",
        "cls_emb_test = torch.Tensor(np.genfromtxt('data/cls_embedding_test.csv', delimiter=','))\n",
        "print('cls_emb_train shape', cls_emb_train.shape)\n",
        "print('cls_emb_dev shape', cls_emb_dev.shape)\n",
        "print('cls_emb_test shape', cls_emb_test.shape)"
      ]
    },
    {
      "cell_type": "code",
      "execution_count": null,
      "metadata": {
        "colab": {
          "background_save": true,
          "base_uri": "https://localhost:8080/"
        },
        "id": "4qkDWJg4njsW",
        "outputId": "4ff05709-8f71-4bd8-a523-1e1e0ca2501a"
      },
      "outputs": [
        {
          "name": "stdout",
          "output_type": "stream",
          "text": [
            "gold_train shape torch.Size([20000, 1])\n",
            "gold_dev shape torch.Size([5000, 1])\n",
            "gold_test shape torch.Size([25000, 1])\n"
          ]
        }
      ],
      "source": [
        "gold_train = torch.Tensor(np.genfromtxt('data/gold_train.csv', delimiter=',').reshape(-1,1))\n",
        "gold_dev = torch.Tensor(np.genfromtxt('data/gold_dev.csv', delimiter=',').reshape(-1,1))\n",
        "gold_test = torch.Tensor(np.genfromtxt('data/gold_test.csv', delimiter=',').reshape(-1,1))\n",
        "print('gold_train shape', gold_train.shape)\n",
        "print('gold_dev shape', gold_dev.shape)\n",
        "print('gold_test shape', gold_test.shape)"
      ]
    },
    {
      "cell_type": "code",
      "execution_count": 10,
      "metadata": {
        "id": "Dvqwamqej_lE"
      },
      "outputs": [],
      "source": [
        "#Logistic Regression and SVM classifiers training function definitions\n",
        "\n",
        "from sklearn.metrics import accuracy_score\n",
        "from sklearn.linear_model import LogisticRegression\n",
        "from sklearn import svm\n",
        "\n",
        "def LogisticRegressionScikit(X_train, y_train):\n",
        "    clf_log = LogisticRegression(max_iter=500)\n",
        "    clf_log.fit(X_train, y_train)\n",
        "    return clf_log\n",
        "\n",
        "def SVMScikit(X_train, y_train):\n",
        "    clf = svm.SVC()\n",
        "    clf.fit(X_train, y_train)\n",
        "    return clf\n",
        "\n",
        "def PredSKLearn(clf, X_test, y_test):\n",
        "    y_pred = clf.predict(X_test)\n",
        "    score = accuracy_score(y_pred, y_test)    \n",
        "    return y_pred, score"
      ]
    },
    {
      "cell_type": "code",
      "execution_count": 11,
      "metadata": {
        "colab": {
          "base_uri": "https://localhost:8080/"
        },
        "id": "jn06LitzkwJo",
        "outputId": "47e2b85f-6551-4539-8e91-a7a135b3e86d"
      },
      "outputs": [
        {
          "output_type": "stream",
          "name": "stdout",
          "text": [
            "Accuracy of logistic regression classifier on avg_emb_test set: 85.36 %\n",
            "Accuracy of logistic regression classifier on cls_emb_test set: 84.42 %\n"
          ]
        }
      ],
      "source": [
        "#Logistic Regression on both [CLS] and avg embeddings\n",
        "clf_log_avg = LogisticRegressionScikit(avg_emb_train, gold_train.reshape(-1))\n",
        "clf_log_cls = LogisticRegressionScikit(cls_emb_train, gold_train.reshape(-1))\n",
        "y_pred_avg_log, avg_log_acc_scikit = PredSKLearn(clf_log_avg, avg_emb_test, gold_test.reshape(-1))\n",
        "y_pred_cls_log, cls_log_acc_scikit = PredSKLearn(clf_log_cls, cls_emb_test, gold_test.reshape(-1))\n",
        "print('Accuracy of logistic regression classifier on avg_emb_test set: {:.2f} %'.format(avg_log_acc_scikit*100))\n",
        "print('Accuracy of logistic regression classifier on cls_emb_test set: {:.2f} %'.format(cls_log_acc_scikit*100))"
      ]
    },
    {
      "cell_type": "code",
      "execution_count": 12,
      "metadata": {
        "colab": {
          "base_uri": "https://localhost:8080/"
        },
        "id": "2X13TrzOk7ye",
        "outputId": "e962096e-2444-4b82-c533-192309379c87"
      },
      "outputs": [
        {
          "output_type": "stream",
          "name": "stdout",
          "text": [
            "Accuracy of SVM classifier on avg_emb_test set: 84.78 %\n",
            "Accuracy of SVM classifier on avg_emb_test set: 83.68 %\n"
          ]
        }
      ],
      "source": [
        "#SVM on both [CLS] and avg embeddings\n",
        "\n",
        "clf_svm_avg = SVMScikit(avg_emb_train, gold_train.reshape(-1))\n",
        "clf_svm_cls = SVMScikit(cls_emb_train, gold_train.reshape(-1))\n",
        "y_pred_avg_svm, avg_svm_acc_scikit = PredSKLearn(clf_svm_avg, avg_emb_test, gold_test.reshape(-1))\n",
        "y_pred_cls_svm, cls_svm_acc_scikit = PredSKLearn(clf_svm_cls, cls_emb_test, gold_test.reshape(-1))\n",
        "print('Accuracy of SVM classifier on avg_emb_test set: {:.2f} %'.format(avg_svm_acc_scikit*100))\n",
        "print('Accuracy of SVM classifier on avg_emb_test set: {:.2f} %'.format(cls_svm_acc_scikit*100))"
      ]
    },
    {
      "cell_type": "code",
      "execution_count": null,
      "metadata": {
        "id": "e_6CMD22RKAO"
      },
      "outputs": [],
      "source": [
        "#Random Forest is performing so poorly, skipping it\n",
        "\n",
        "# from sklearn.metrics import accuracy_score\n",
        "# from sklearn.ensemble import RandomForestClassifier\n",
        "\n",
        "# def RandomForestScikit(X_train, y_train, X_test, y_test):\n",
        "#     clf = RandomForestClassifier(random_state=25,\n",
        "#                                 n_jobs=10,\n",
        "#                                 class_weight=\"balanced\",\n",
        "#                                 n_estimators=250)\n",
        "#     clf.fit(X_train, y_train)\n",
        "#     y_pred = clf.predict(X_test)\n",
        "#     score = accuracy_score(y_pred, y_test)    \n",
        "#     return y_pred, score"
      ]
    },
    {
      "cell_type": "code",
      "execution_count": null,
      "metadata": {
        "id": "snLSNpPTTm7c"
      },
      "outputs": [],
      "source": [
        "# y_pred_scikit, avg_rf_acc_scikit = RandomForestScikit(avg_emb_train, gold_train.reshape(-1), avg_emb_test, gold_test.reshape(-1))\n",
        "# print('Accuracy of random forest classifier on avg_emb_test set: {:.2f} %'.format(avg_rf_acc_scikit*100))"
      ]
    },
    {
      "cell_type": "code",
      "execution_count": null,
      "metadata": {
        "id": "C_LDzHRvTd9d"
      },
      "outputs": [],
      "source": [
        "# y_pred_scikit, cls_rf_acc_scikit = RandomForestScikit(cls_emb_train, gold_train.reshape(-1), cls_emb_test, gold_test.reshape(-1))\n",
        "# print('Accuracy of random forest classifier on cls_emb_test set: {:.2f} %'.format(cls_rf_acc_scikit*100))"
      ]
    },
    {
      "cell_type": "code",
      "execution_count": 13,
      "metadata": {
        "id": "fq-uZPW-62nF"
      },
      "outputs": [],
      "source": [
        "#Custom class for dataset\n",
        "from torch.utils.data.dataset import Dataset\n",
        "class MyDataset(Dataset):\n",
        "    def __init__(self,d):\n",
        "        self.text = d['text']\n",
        "        self.label = d['label']\n",
        "        \n",
        "    def __getitem__(self, index):\n",
        "        x = self.text[index]\n",
        "        y = self.label[index]        \n",
        "        return {'text': x, 'label': y}\n",
        "    \n",
        "    def __len__(self):\n",
        "        return len(self.text)"
      ]
    },
    {
      "cell_type": "code",
      "execution_count": 14,
      "metadata": {
        "id": "O2rAiVbc0R9b"
      },
      "outputs": [],
      "source": [
        "#Forming training and test set dataloaders for both [CLS] and avg embeddings\n",
        "from torch.utils.data.dataloader import DataLoader\n",
        "\n",
        "avgtrainingset={'text':avg_emb_train,'label':gold_train}\n",
        "avgtrainloader=DataLoader(MyDataset(avgtrainingset), batch_size=100, shuffle=True)\n",
        "\n",
        "avgtestset={'text':avg_emb_test,'label':gold_test}\n",
        "avgtestloader=DataLoader(MyDataset(avgtestset), batch_size=100, shuffle=True)\n",
        "\n",
        "clstrainingset={'text':cls_emb_train,'label':gold_train}\n",
        "clstrainloader=DataLoader(MyDataset(clstrainingset), batch_size=100, shuffle=True)\n",
        "\n",
        "clstestset={'text':cls_emb_test,'label':gold_test}\n",
        "clstestloader=DataLoader(MyDataset(clstestset), batch_size=100, shuffle=True)"
      ]
    },
    {
      "cell_type": "code",
      "execution_count": 15,
      "metadata": {
        "id": "NwAWSqVxbFeC"
      },
      "outputs": [],
      "source": [
        "#Shallow Neural Net architecture\n",
        "import torch.nn as nn\n",
        "import torch.nn.functional as F\n",
        "\n",
        "class Net(nn.Module):\n",
        "    def __init__(self):\n",
        "        super(Net, self).__init__()\n",
        "        # input format(1,768)\n",
        "        self.in_layer = nn.Linear(768, 128)\n",
        "        #self.bn1 = nn.BatchNorm2d(100)\n",
        "        #self.fc1 = nn.Linear(512, 256)\n",
        "        self.fc2 = nn.Linear(128, 32)           #self.fc2 = nn.Linear(256, 64)\n",
        "        #self.fc3 = nn.Linear(64, 16)\n",
        "        self.dp = nn.Dropout2d(p=0.5)\n",
        "        self.out_layer = nn.Linear(32, 2)\n",
        "\n",
        "    def forward(self, x):\n",
        "        x=F.relu(self.in_layer(x))\n",
        "        #x=self.bn1(F.relu(self.in_layer(x)))\n",
        "#        x=F.relu(self.fc1(x))\n",
        "        x=F.relu(self.fc2(x))\n",
        "#        x=F.relu(self.fc3(x))\n",
        "        output=self.out_layer(x)\n",
        "\n",
        "        return output"
      ]
    },
    {
      "cell_type": "code",
      "execution_count": 16,
      "metadata": {
        "id": "TZKjmvAKdxok"
      },
      "outputs": [],
      "source": [
        "criterion = nn.CrossEntropyLoss()"
      ]
    },
    {
      "cell_type": "code",
      "execution_count": 22,
      "metadata": {
        "id": "5Ooz_DVwEZ2A"
      },
      "outputs": [],
      "source": [
        "import torch.optim as optim\n",
        "avgnet = Net()\n",
        "avgoptimizer = optim.Adam(avgnet.parameters(), lr=0.001)"
      ]
    },
    {
      "cell_type": "code",
      "execution_count": 18,
      "metadata": {
        "id": "Nl4oZeFz-XcO",
        "colab": {
          "base_uri": "https://localhost:8080/"
        },
        "outputId": "63e6cebf-a998-40c1-c834-083a436eb3c7"
      },
      "outputs": [
        {
          "output_type": "stream",
          "name": "stdout",
          "text": [
            "tensor(12500)\n",
            "25000\n",
            "Accuracy of the network for avg_emb_test before training: 50.00 %\n"
          ]
        }
      ],
      "source": [
        "correct = 0\n",
        "total = 0\n",
        "\n",
        "with torch.no_grad():\n",
        "    for i, batch in enumerate(avgtestloader,0):\n",
        "        inputs = batch['text']\n",
        "        labels = batch['label']\n",
        "        outputs = avgnet(inputs)\n",
        "        _, predicted = torch.max(outputs.data, 1)\n",
        "        total += labels.size(0)\n",
        "        correct += (predicted == labels.reshape(-1)).sum()\n",
        "\n",
        "print(correct)\n",
        "print(total)\n",
        "print('Accuracy of the network for avg_emb_test before training: %.2f %%' % (100 * correct / total))"
      ]
    },
    {
      "cell_type": "code",
      "execution_count": 23,
      "metadata": {
        "id": "Va-Asg5ohvv2",
        "colab": {
          "base_uri": "https://localhost:8080/"
        },
        "outputId": "3f7c05ae-2e4c-4ef6-fde1-942bb3d16f01"
      },
      "outputs": [
        {
          "output_type": "stream",
          "name": "stdout",
          "text": [
            "Started training for avg_emb.\n",
            "Epoch: 1, loss: 0.450, acc: 78.685\n",
            "Epoch: 2, loss: 0.366, acc: 83.580\n",
            "Epoch: 3, loss: 0.354, acc: 84.335\n",
            "Epoch: 4, loss: 0.351, acc: 84.565\n",
            "Epoch: 5, loss: 0.344, acc: 84.795\n",
            "Epoch: 6, loss: 0.341, acc: 84.915\n",
            "Epoch: 7, loss: 0.337, acc: 84.970\n",
            "Epoch: 8, loss: 0.341, acc: 84.755\n",
            "Epoch: 9, loss: 0.331, acc: 85.340\n",
            "Epoch: 10, loss: 0.329, acc: 85.435\n",
            "Finished training for avg_emb.\n"
          ]
        }
      ],
      "source": [
        "torch.manual_seed(15)\n",
        "overall_step = 0\n",
        "epochs = 10\n",
        "avg_train_loss = []\n",
        "\n",
        "print('Started training for avg_emb.')\n",
        "\n",
        "for epoch in range(epochs):\n",
        "    running_loss = 0\n",
        "    accuracy=0\n",
        "\n",
        "    for i, batch in enumerate(avgtrainloader,0):\n",
        "        inputs = batch['text']\n",
        "        labels = batch['label']\n",
        "\n",
        "        avgoptimizer.zero_grad()\n",
        "        outputs = avgnet(inputs)       \n",
        "        loss = criterion(outputs, torch.max(labels, 1)[0].long())\n",
        "\n",
        "        with torch.no_grad():\n",
        "            _, predicted = torch.max(outputs.data, 1)\n",
        "            accuracy += (predicted == labels.reshape(-1)).sum()\n",
        "\n",
        "        loss.backward()\n",
        "        avgoptimizer.step()\n",
        "        running_loss += loss.item()\n",
        "    avg_train_loss.append(running_loss/200)    \n",
        "    print('Epoch: %d, loss: %.3f, acc: %.3f' % (epoch + 1, running_loss / 200, accuracy/200))    \n",
        "\n",
        "print('Finished training for avg_emb.')"
      ]
    },
    {
      "cell_type": "code",
      "execution_count": 24,
      "metadata": {
        "id": "uSpmaip-OjcA",
        "colab": {
          "base_uri": "https://localhost:8080/",
          "height": 295
        },
        "outputId": "5487fb05-76c1-47c6-8c77-bb23a542e726"
      },
      "outputs": [
        {
          "output_type": "display_data",
          "data": {
            "image/png": "[encoded data removed]",
            "text/plain": [
              "<Figure size 432x288 with 1 Axes>"
            ]
          },
          "metadata": {
            "needs_background": "light"
          }
        }
      ],
      "source": [
        "from matplotlib import pyplot as plt\n",
        "fig=plt.figure()\n",
        "plt.plot(np.arange(1, epochs+1), avg_train_loss, label=\"Train loss\")\n",
        "plt.xlabel('Epochs')\n",
        "plt.ylabel('Loss')\n",
        "plt.title(\"Loss Plots for AVG Embeddings\")\n",
        "plt.legend(loc='upper right')\n",
        "plt.show()"
      ]
    },
    {
      "cell_type": "code",
      "execution_count": 25,
      "metadata": {
        "id": "vuYJm65U23HI",
        "colab": {
          "base_uri": "https://localhost:8080/"
        },
        "outputId": "166144a5-b275-45e3-e40b-51e9467d1c91"
      },
      "outputs": [
        {
          "output_type": "stream",
          "name": "stdout",
          "text": [
            "tensor(21283)\n",
            "25000\n",
            "Accuracy of the network for avg_emb after training: 85.13 %\n"
          ]
        }
      ],
      "source": [
        "correct = 0\n",
        "total = 0\n",
        "y_pred_avg_NN = []\n",
        "\n",
        "with torch.no_grad():\n",
        "    for i, batch in enumerate(avgtestloader,0):\n",
        "        inputs = batch['text']\n",
        "        labels = batch['label']\n",
        "        outputs = avgnet(inputs)\n",
        "        _, predicted = torch.max(outputs.data, 1)\n",
        "        total += labels.size(0)\n",
        "        correct += (predicted == labels.reshape(-1)).sum()\n",
        "        y_pred_avg_NN = np.append(y_pred_avg_NN, predicted.numpy())\n",
        "\n",
        "print(correct)\n",
        "print(total)\n",
        "print('Accuracy of the network for avg_emb after training: %.2f %%' % (\n",
        "    100 * correct / total))"
      ]
    },
    {
      "cell_type": "code",
      "execution_count": 26,
      "metadata": {
        "id": "prf4HWUjEsWT"
      },
      "outputs": [],
      "source": [
        "clsnet = Net()\n",
        "clsoptimizer = optim.Adam(clsnet.parameters(), lr=0.001)"
      ]
    },
    {
      "cell_type": "code",
      "execution_count": 27,
      "metadata": {
        "id": "dYE6DVsMAdT1",
        "colab": {
          "base_uri": "https://localhost:8080/"
        },
        "outputId": "d5d1d925-4777-4565-cac0-b9f50e3030b9"
      },
      "outputs": [
        {
          "output_type": "stream",
          "name": "stdout",
          "text": [
            "tensor(12423)\n",
            "25000\n",
            "Accuracy of the network for cls_emb_test before training: 49.69 %\n"
          ]
        }
      ],
      "source": [
        "correct = 0\n",
        "total = 0\n",
        "\n",
        "with torch.no_grad():\n",
        "    for i, batch in enumerate(clstestloader,0):\n",
        "        inputs = batch['text']\n",
        "        labels = batch['label']\n",
        "        outputs = clsnet(inputs)\n",
        "        _, predicted = torch.max(outputs.data, 1)\n",
        "        total += labels.size(0)\n",
        "        correct += (predicted == labels.reshape(-1)).sum()\n",
        "\n",
        "print(correct)\n",
        "print(total)\n",
        "print('Accuracy of the network for cls_emb_test before training: %.2f %%' % (100 * correct / total))"
      ]
    },
    {
      "cell_type": "code",
      "execution_count": 28,
      "metadata": {
        "id": "GWXQKvFtArBM",
        "colab": {
          "base_uri": "https://localhost:8080/"
        },
        "outputId": "4008c47d-ad95-49be-bfcb-8eec5b0dc6f6"
      },
      "outputs": [
        {
          "output_type": "stream",
          "name": "stdout",
          "text": [
            "Started training for cls_emb.\n",
            "Epoch: 1, loss: 0.475, acc: 76.885\n",
            "Epoch: 2, loss: 0.389, acc: 82.465\n",
            "Epoch: 3, loss: 0.373, acc: 83.045\n",
            "Epoch: 4, loss: 0.371, acc: 83.085\n",
            "Epoch: 5, loss: 0.370, acc: 83.325\n",
            "Epoch: 6, loss: 0.360, acc: 84.040\n",
            "Epoch: 7, loss: 0.365, acc: 83.605\n",
            "Epoch: 8, loss: 0.352, acc: 84.190\n",
            "Epoch: 9, loss: 0.358, acc: 83.685\n",
            "Epoch: 10, loss: 0.349, acc: 84.360\n",
            "Epoch: 11, loss: 0.345, acc: 84.580\n",
            "Epoch: 12, loss: 0.346, acc: 84.485\n",
            "Epoch: 13, loss: 0.339, acc: 84.980\n",
            "Epoch: 14, loss: 0.335, acc: 85.100\n",
            "Epoch: 15, loss: 0.332, acc: 84.930\n",
            "Epoch: 16, loss: 0.331, acc: 85.025\n",
            "Epoch: 17, loss: 0.332, acc: 84.910\n",
            "Epoch: 18, loss: 0.322, acc: 85.840\n",
            "Epoch: 19, loss: 0.316, acc: 86.140\n",
            "Epoch: 20, loss: 0.316, acc: 86.000\n",
            "Epoch: 21, loss: 0.308, acc: 86.525\n",
            "Epoch: 22, loss: 0.305, acc: 86.510\n",
            "Epoch: 23, loss: 0.305, acc: 86.590\n",
            "Epoch: 24, loss: 0.299, acc: 86.970\n",
            "Epoch: 25, loss: 0.295, acc: 87.275\n",
            "Finished training for cls_emb.\n"
          ]
        }
      ],
      "source": [
        "torch.manual_seed(77)\n",
        "overall_step = 0\n",
        "epochs = 25\n",
        "train_loss = []\n",
        "\n",
        "print('Started training for cls_emb.')\n",
        "\n",
        "for epoch in range(epochs):\n",
        "    running_loss = 0\n",
        "    accuracy=0\n",
        "\n",
        "    for i, batch in enumerate(clstrainloader,0):\n",
        "        inputs = batch['text']\n",
        "        labels = batch['label']\n",
        "\n",
        "        clsoptimizer.zero_grad()\n",
        "        outputs = clsnet(inputs)       \n",
        "        loss = criterion(outputs, torch.max(labels, 1)[0].long())\n",
        "\n",
        "        with torch.no_grad():\n",
        "            _, predicted = torch.max(outputs.data, 1)\n",
        "            accuracy += (predicted == labels.reshape(-1)).sum()\n",
        "\n",
        "        loss.backward()\n",
        "        clsoptimizer.step()\n",
        "\n",
        "        running_loss += loss.item()\n",
        "    train_loss.append(running_loss/200)    \n",
        "    print('Epoch: %d, loss: %.3f, acc: %.3f' % (epoch + 1, running_loss / 200, accuracy/200))      \n",
        "print('Finished training for cls_emb.')"
      ]
    },
    {
      "cell_type": "code",
      "execution_count": 29,
      "metadata": {
        "id": "TtDwTGGjG3BK",
        "colab": {
          "base_uri": "https://localhost:8080/",
          "height": 295
        },
        "outputId": "7747d1b8-4df7-4536-c085-f1bb257b92ce"
      },
      "outputs": [
        {
          "output_type": "display_data",
          "data": {
            "image/png": "[encoded data removed]",
            "text/plain": [
              "<Figure size 432x288 with 1 Axes>"
            ]
          },
          "metadata": {
            "needs_background": "light"
          }
        }
      ],
      "source": [
        "from matplotlib import pyplot as plt\n",
        "fig=plt.figure()\n",
        "plt.plot(np.arange(1, epochs+1), train_loss, label=\"Train loss\")\n",
        "plt.xlabel('Epochs')\n",
        "plt.ylabel('Loss')\n",
        "plt.title(\"Loss Plots for CLS Embeddings\")\n",
        "plt.legend(loc='upper right')\n",
        "plt.show()"
      ]
    },
    {
      "cell_type": "code",
      "execution_count": 30,
      "metadata": {
        "id": "snAd7seZA3Du",
        "colab": {
          "base_uri": "https://localhost:8080/"
        },
        "outputId": "48aaadf5-61d6-4032-f886-7969e5f2a013"
      },
      "outputs": [
        {
          "output_type": "stream",
          "name": "stdout",
          "text": [
            "tensor(20952)\n",
            "25000\n",
            "Accuracy of the network for cls_emb after training: 83.81 %\n"
          ]
        }
      ],
      "source": [
        "correct = 0\n",
        "total = 0\n",
        "y_pred_cls_NN = []\n",
        "\n",
        "with torch.no_grad():\n",
        "    for i, batch in enumerate(clstestloader,0):\n",
        "        inputs = batch['text']\n",
        "        labels = batch['label']\n",
        "        outputs = clsnet(inputs)\n",
        "        _, predicted = torch.max(outputs.data, 1)\n",
        "        total += labels.size(0)\n",
        "        correct += (predicted == labels.reshape(-1)).sum()\n",
        "        y_pred_cls_NN = np.append(y_pred_cls_NN, predicted.numpy())\n",
        "\n",
        "print(correct)\n",
        "print(total)\n",
        "print('Accuracy of the network for cls_emb after training: %.2f %%' % (100 * correct / total))"
      ]
    },
    {
      "cell_type": "code",
      "execution_count": 51,
      "metadata": {
        "id": "xazEYJJ-mE0j"
      },
      "outputs": [],
      "source": [
        "import statistics\n",
        "from statistics import mode\n",
        "\n",
        "def majority(List):\n",
        "    return(mode(List))\n",
        "\n",
        "def EnsembleMajority(y_pred_avg_NN, y_pred_avg_log, y_pred_avg_svm):\n",
        "    final_pred = y_pred_avg_log\n",
        "    for i in range(len(y_pred_avg_log)): \n",
        "        List = [y_pred_avg_NN[i], y_pred_avg_log[i], y_pred_cls_log[i]]\n",
        "        final_pred[i] = (majority(List))\n",
        "\n",
        "    score = accuracy_score(final_pred, gold_test.reshape(-1))\n",
        "    return score"
      ]
    },
    {
      "cell_type": "code",
      "execution_count": 52,
      "metadata": {
        "id": "TfoWNCN3mTOS",
        "colab": {
          "base_uri": "https://localhost:8080/"
        },
        "outputId": "b3a90137-4ed3-41a3-d7f2-dee54a5770e5"
      },
      "outputs": [
        {
          "output_type": "stream",
          "name": "stdout",
          "text": [
            "Accuracy of the network for avg_emb after training: 85.00 %\n"
          ]
        }
      ],
      "source": [
        "ensemble_majority_acc = EnsembleMajority(y_pred_avg_NN, y_pred_avg_log, y_pred_avg_svm)\n",
        "print('Accuracy of the network for avg_emb after training: %.2f %%' % (ensemble_majority_acc*100))"
      ]
    },
    {
      "cell_type": "code",
      "source": [
        "ensemble_majority_acc = EnsembleMajority(y_pred_cls_NN, y_pred_cls_log, y_pred_cls_svm)\n",
        "print('Accuracy of the network for cls_emb after training: %.2f %%' % (ensemble_majority_acc*100))"
      ],
      "metadata": {
        "colab": {
          "base_uri": "https://localhost:8080/"
        },
        "id": "rfUg0_Yz23Rf",
        "outputId": "e7423fc1-8293-4f1a-ae6e-998bbeaa9e13"
      },
      "execution_count": 53,
      "outputs": [
        {
          "output_type": "stream",
          "name": "stdout",
          "text": [
            "Accuracy of the network for cls_emb after training: 84.42 %\n"
          ]
        }
      ]
    }
  ],
  "metadata": {
    "colab": {
      "collapsed_sections": [],
      "name": "Project_NN_Model.ipynb",
      "provenance": []
    },
    "kernelspec": {
      "display_name": "Python 3",
      "name": "python3"
    },
    "language_info": {
      "name": "python"
    }
  },
  "nbformat": 4,
  "nbformat_minor": 0
}